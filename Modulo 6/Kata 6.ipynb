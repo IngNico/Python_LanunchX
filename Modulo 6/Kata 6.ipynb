{
 "cells": [
  {
   "cell_type": "markdown",
   "metadata": {},
   "source": [
    "## Ejercicio1: Crear y usar listas de Python"
   ]
  },
  {
   "cell_type": "code",
   "execution_count": 2,
   "metadata": {},
   "outputs": [
    {
     "name": "stdout",
     "output_type": "stream",
     "text": [
      "Hay  8  planetas en el sistema solar\n"
     ]
    }
   ],
   "source": [
    "planets = ['Mercurio', 'Venus', 'Tierra', 'Marte', 'Jupiter', 'Saturno', 'Neptuno', 'Urano']\n",
    "num_planets = len(planets)\n",
    "print(\"Hay \",num_planets,\" planetas en el sistema solar\")"
   ]
  },
  {
   "cell_type": "code",
   "execution_count": 3,
   "metadata": {},
   "outputs": [
    {
     "name": "stdout",
     "output_type": "stream",
     "text": [
      "Pluton is the last planet\n"
     ]
    }
   ],
   "source": [
    "planets.append('Pluton')"
   ]
  },
  {
   "cell_type": "code",
   "execution_count": 5,
   "metadata": {},
   "outputs": [
    {
     "name": "stdout",
     "output_type": "stream",
     "text": [
      "Pluton es el ultimo planeta\n",
      "Con  Pluton  el sistema solar tiene  9  planetas\n"
     ]
    }
   ],
   "source": [
    "num_planets = len(planets)\n",
    "print(planets[-1], 'es el ultimo planeta')\n",
    "print(\"Con \", planets[-1], \" el sistema solar tiene \", num_planets,\" planetas\")"
   ]
  },
  {
   "cell_type": "markdown",
   "metadata": {},
   "source": [
    "## Ejercicio 2: Trabajando con datos de una lista"
   ]
  },
  {
   "cell_type": "code",
   "execution_count": 6,
   "metadata": {},
   "outputs": [],
   "source": [
    "planetas = ['Mercurio', 'Venus', 'Tierra', 'Marte', 'Jupiter', 'Saturno', 'Neptuno']"
   ]
  },
  {
   "cell_type": "code",
   "execution_count": 10,
   "metadata": {},
   "outputs": [],
   "source": [
    "planeta = input(\"Inserte nombre de planeta con mayuscula la primera letra\")"
   ]
  },
  {
   "cell_type": "code",
   "execution_count": 11,
   "metadata": {},
   "outputs": [
    {
     "name": "stdout",
     "output_type": "stream",
     "text": [
      "Jupiter  esta en el lugar  5  del sistema solar\n"
     ]
    }
   ],
   "source": [
    "busqueda = planetas.index(planeta)\n",
    "print(planeta, \" esta en el lugar \",busqueda+1, \" del sistema solar\")"
   ]
  },
  {
   "cell_type": "code",
   "execution_count": 16,
   "metadata": {},
   "outputs": [
    {
     "name": "stdout",
     "output_type": "stream",
     "text": [
      "Los planetas mas cercanos que estan al sol\n",
      "antes de Jupiter , son:\n",
      "['Mercurio', 'Venus', 'Tierra', 'Marte']\n"
     ]
    }
   ],
   "source": [
    "distancia = planetas[0:busqueda]\n",
    "print (\"Los planetas mas cercanos que estan al sol\")\n",
    "print (\"antes de\" ,planeta, \", son:\")\n",
    "print (distancia)"
   ]
  },
  {
   "cell_type": "code",
   "execution_count": 19,
   "metadata": {},
   "outputs": [
    {
     "name": "stdout",
     "output_type": "stream",
     "text": [
      "Los planetas mas lejanos que estan al sol\n",
      "despues de Jupiter , son:\n",
      "['Saturno', 'Neptuno']\n"
     ]
    }
   ],
   "source": [
    "distancia = planetas[busqueda+1:]\n",
    "print (\"Los planetas mas lejanos que estan al sol\")\n",
    "print (\"despues de\" ,planeta, \", son:\")\n",
    "print (distancia)"
   ]
  }
 ],
 "metadata": {
  "interpreter": {
   "hash": "62713e86eb1dd5ba54de3bf3ae56aef3396e50e8c38de9c6bed413f25835268b"
  },
  "kernelspec": {
   "display_name": "Python 3.10.2 64-bit",
   "language": "python",
   "name": "python3"
  },
  "language_info": {
   "codemirror_mode": {
    "name": "ipython",
    "version": 3
   },
   "file_extension": ".py",
   "mimetype": "text/x-python",
   "name": "python",
   "nbconvert_exporter": "python",
   "pygments_lexer": "ipython3",
   "version": "3.10.2"
  },
  "orig_nbformat": 4
 },
 "nbformat": 4,
 "nbformat_minor": 2
}
