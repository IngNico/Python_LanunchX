{
 "cells": [
  {
   "cell_type": "markdown",
   "metadata": {},
   "source": [
    "## Ejercicio 1: Uso de funciones en Python"
   ]
  },
  {
   "cell_type": "code",
   "execution_count": 16,
   "metadata": {},
   "outputs": [],
   "source": [
    "def reporte(tanque1, tanque2, tanque3):\n",
    "    prom = (tanque1 + tanque2 + tanque3)/3\n",
    "    return f\"\"\"\n",
    "    Reporte de combustible:\n",
    "    Promedio de combustible: {prom} %\n",
    "    Tanque 1: {tanque1 }%\n",
    "    Tanque 2: {tanque2 }%\n",
    "    Tanque 3: {tanque3 }% \n",
    "    \"\"\""
   ]
  },
  {
   "cell_type": "code",
   "execution_count": 15,
   "metadata": {},
   "outputs": [
    {
     "name": "stdout",
     "output_type": "stream",
     "text": [
      "Reporte de combustible:\n",
      "    Promedio de combustible: 60.0 %\n",
      "    Tanque 1: 60%\n",
      "    Tanque 2: 90%\n",
      "    Tanque 3: 30% \n",
      "    \n"
     ]
    }
   ],
   "source": [
    "print(reporte(60,90,30))"
   ]
  },
  {
   "cell_type": "code",
   "execution_count": 19,
   "metadata": {},
   "outputs": [],
   "source": [
    "def promedio(valores):\n",
    "    tot = sum(valores)\n",
    "    cantidad = len(valores)\n",
    "    return tot/cantidad"
   ]
  },
  {
   "cell_type": "code",
   "execution_count": 21,
   "metadata": {},
   "outputs": [
    {
     "name": "stdout",
     "output_type": "stream",
     "text": [
      "20.0\n"
     ]
    }
   ],
   "source": [
    "print (promedio([20,15,25]))"
   ]
  },
  {
   "cell_type": "code",
   "execution_count": 23,
   "metadata": {},
   "outputs": [
    {
     "name": "stdout",
     "output_type": "stream",
     "text": [
      "\n",
      "    Reporte de combustible:\n",
      "    Promedio de combustible: 60.0 %\n",
      "    Tanque 1: 60%\n",
      "    Tanque 2: 90%\n",
      "    Tanque 3: 30% \n",
      "    \n"
     ]
    }
   ],
   "source": [
    "def reporte(tanque1, tanque2, tanque3):\n",
    "    return f\"\"\"\n",
    "    Reporte de combustible:\n",
    "    Promedio de combustible: {promedio([tanque1,tanque2,tanque3])} %\n",
    "    Tanque 1: {tanque1 }%\n",
    "    Tanque 2: {tanque2 }%\n",
    "    Tanque 3: {tanque3 }% \n",
    "    \"\"\"\n",
    "\n",
    "print(reporte(60,90,30))"
   ]
  },
  {
   "cell_type": "markdown",
   "metadata": {},
   "source": [
    "## Ejercicio 2: Trabajo con argumentos de palabra clave"
   ]
  },
  {
   "cell_type": "code",
   "execution_count": 30,
   "metadata": {},
   "outputs": [],
   "source": [
    "def report_mision(prelanzamiento, tiemp_vuelo, destino, tanque_externo, tanque_interno):\n",
    "    return f\"\"\"\n",
    "    Misión a: {destino}\n",
    "    Minutos de viaje: {prelanzamiento + tiemp_vuelo}\n",
    "    Total de combustible: {tanque_externo + tanque_interno} litros\n",
    "    \"\"\"\n"
   ]
  },
  {
   "cell_type": "code",
   "execution_count": 31,
   "metadata": {},
   "outputs": [
    {
     "name": "stdout",
     "output_type": "stream",
     "text": [
      "\n",
      "    Misión a: Luna\n",
      "    Minutos de viaje: 21\n",
      "    Total de combustible: 8000 litros\n",
      "    \n"
     ]
    }
   ],
   "source": [
    "\n",
    "print(report_mision(7, 14, \"Luna\", 3000, 5000))"
   ]
  },
  {
   "cell_type": "code",
   "execution_count": 34,
   "metadata": {},
   "outputs": [
    {
     "name": "stdout",
     "output_type": "stream",
     "text": [
      "\n",
      "    Misión a: Luna\n",
      "    Minutos de viaje: 46 minutes\n",
      "    Total de combustible: 8000 litros\n",
      "    \n"
     ]
    }
   ],
   "source": [
    "def report_mision(destino, *minutos, **combustible):\n",
    "    return f\"\"\"\n",
    "    Misión a: {destino}\n",
    "    Minutos de viaje: {sum(minutos)} minutes\n",
    "    Total de combustible: {sum(combustible.values())} litros\n",
    "    \"\"\"\n",
    "\n",
    "print(report_mision(\"Luna\", 7, 14, 25, externo=3000, interno=5000))"
   ]
  },
  {
   "cell_type": "code",
   "execution_count": 44,
   "metadata": {},
   "outputs": [
    {
     "name": "stdout",
     "output_type": "stream",
     "text": [
      "\n",
      "    Misión a: Luna\n",
      "    Minutos de viaje: 46 minutes\n",
      "    Total de combustible: 8000 litros\n",
      "    Tanque externo  --> 3000 litros\n",
      "    Tanque interno  --> 5000 litros\n",
      "    \n"
     ]
    }
   ],
   "source": [
    "def report_mision(destino, *minutos, **combustible):\n",
    "    reporte_principal = f\"\"\"\n",
    "    Misión a: {destino}\n",
    "    Minutos de viaje: {sum(minutos)} minutes\n",
    "    Total de combustible: {sum(combustible.values())} litros\n",
    "    \"\"\"\n",
    "\n",
    "    for nom_tanque, litros in combustible.items():\n",
    "        reporte_principal += f\"Tanque {nom_tanque}  --> {litros} litros\\n    \"\n",
    "    return reporte_principal\n",
    "\n",
    "print(report_mision(\"Luna\", 7, 14, 25, externo=3000, interno=5000))"
   ]
  },
  {
   "cell_type": "code",
   "execution_count": null,
   "metadata": {},
   "outputs": [],
   "source": []
  }
 ],
 "metadata": {
  "interpreter": {
   "hash": "62713e86eb1dd5ba54de3bf3ae56aef3396e50e8c38de9c6bed413f25835268b"
  },
  "kernelspec": {
   "display_name": "Python 3.10.2 64-bit",
   "language": "python",
   "name": "python3"
  },
  "language_info": {
   "codemirror_mode": {
    "name": "ipython",
    "version": 3
   },
   "file_extension": ".py",
   "mimetype": "text/x-python",
   "name": "python",
   "nbconvert_exporter": "python",
   "pygments_lexer": "ipython3",
   "version": "3.10.2"
  },
  "orig_nbformat": 4
 },
 "nbformat": 4,
 "nbformat_minor": 2
}
